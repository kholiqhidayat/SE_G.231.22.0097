{
  "nbformat": 4,
  "nbformat_minor": 0,
  "metadata": {
    "colab": {
      "provenance": [],
      "authorship_tag": "ABX9TyOKYv5f8HP4hbF3VtgZGBx5",
      "include_colab_link": true
    },
    "kernelspec": {
      "name": "python3",
      "display_name": "Python 3"
    },
    "language_info": {
      "name": "python"
    }
  },
  "cells": [
    {
      "cell_type": "markdown",
      "metadata": {
        "id": "view-in-github",
        "colab_type": "text"
      },
      "source": [
        "<a href=\"https://colab.research.google.com/github/kholiqhidayat/SE_G.231.22.0097/blob/main/G_231_22_0097_SE.ipynb\" target=\"_parent\"><img src=\"https://colab.research.google.com/assets/colab-badge.svg\" alt=\"Open In Colab\"/></a>"
      ]
    },
    {
      "cell_type": "code",
      "source": [
        "import webbrowser\n",
        "\n",
        "website = input(\"Search Website (google/youtube): \")\n",
        "\n",
        "if website.lower() == \"google\":\n",
        "    query = input(\"Search: \")\n",
        "    search_url = f\"https://www.google.com/search?q={query}\"\n",
        "    webbrowser.open(search_url)\n",
        "\n",
        "elif website.lower() == \"youtube\":\n",
        "    query = input(\"Search: \")\n",
        "    search_url = f\"https://www.youtube.com/results?search_query={query}\"\n",
        "    webbrowser.open(search_url)\n",
        "\n",
        "else:\n",
        "    print(\"Ketikkan google/youtube aja\")\n"
      ],
      "metadata": {
        "colab": {
          "base_uri": "https://localhost:8080/"
        },
        "id": "MwPFdUxCF3n2",
        "outputId": "05379763-1ec5-4314-dcc6-dced78b9064b"
      },
      "execution_count": 6,
      "outputs": [
        {
          "name": "stdout",
          "output_type": "stream",
          "text": [
            "Search Website (google/youtube): google\n",
            "Search: https://www.google.com/search?q\n"
          ]
        }
      ]
    }
  ]
}